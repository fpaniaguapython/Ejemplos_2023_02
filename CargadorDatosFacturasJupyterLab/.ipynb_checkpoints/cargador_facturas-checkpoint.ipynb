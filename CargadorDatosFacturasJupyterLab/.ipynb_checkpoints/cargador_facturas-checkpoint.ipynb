{
 "cells": [
  {
   "cell_type": "markdown",
   "id": "501d66b8-ba21-4d1a-b3a7-3952ebb8e0a9",
   "metadata": {},
   "source": [
    "<b>El objetivo final es tener estas estructuras de datos:</b>"
   ]
  },
  {
   "cell_type": "raw",
   "id": "348dd27b-ec04-44d1-815d-6bb489678205",
   "metadata": {},
   "source": [
    "supplier_data = {\"nombre\":\"Fernando Paniagua\",\"direccion\":\"C/San Miguel, Alcorcón\",\"email\":\"fernando.paniagua@gmail.com\",\"cif\":\"B12345678\"}\n",
    "client_data = {\"nombre\":\"Philips S.A.U.\",\"direccion\":\"Hoyos del Espino\",\"email\":\"philips@gmail.com\",\"cif\":\"B87654321\"}\n",
    "items_list = [(\"Pan\",15,1.5),(\"Leche\",10,1.75),(\"Cerveza Sin Alcohol\",5,0.60)]"
   ]
  },
  {
   "cell_type": "markdown",
   "id": "5f0d8ef0-aedf-4f72-b805-82f207d8f157",
   "metadata": {},
   "source": [
    "<b>Apertura y lectura del fichero</b>"
   ]
  },
  {
   "cell_type": "code",
   "execution_count": 1,
   "id": "85dec7f5-ad7e-4b93-b5cb-2298944eaa8a",
   "metadata": {
    "tags": []
   },
   "outputs": [],
   "source": [
    "with open(\"datos_factura.txt\",\"r\",encoding=\"utf-8\") as fichero:\n",
    "    items = fichero.readlines()"
   ]
  },
  {
   "cell_type": "markdown",
   "id": "9abb28fc-18c4-40ee-818f-2116a02aa5e2",
   "metadata": {},
   "source": [
    "<b>Eliminación de los saltos de línea finales</b>"
   ]
  },
  {
   "cell_type": "code",
   "execution_count": 2,
   "id": "d7229f4e-bb48-4235-a4ae-8c4f1952e87d",
   "metadata": {
    "tags": []
   },
   "outputs": [],
   "source": [
    "items = [item[0:-1]   for item in items]"
   ]
  },
  {
   "cell_type": "code",
   "execution_count": 3,
   "id": "7b341ab7-ea06-4e98-bf2d-1fe38996ce64",
   "metadata": {
    "tags": []
   },
   "outputs": [
    {
     "name": "stdout",
     "output_type": "stream",
     "text": [
      "['Fernando Paniagua#C/San Miguel, Alcorcón#fernando.paniagua@gmail.com#B12345678$Philips S.A.U.#Hoyos del Espino#philips@gmail.com#B87654321$Pan,15,1.5#Leche,10,1.75#Cerveza Sin Alcohol,5,0.60', 'Fernando Paniagua2#C/San Miguel, Alcorcón#fernando.paniagua@gmail.com#B12345678$Philips S.A.U.2#Hoyos del Espino#philips@gmail.com#B87654321$Pan,15,1.5#Leche,10,1.75#Cerveza Sin Alcohol,5,0.60']\n"
     ]
    }
   ],
   "source": [
    "print(items)"
   ]
  },
  {
   "cell_type": "code",
   "execution_count": 9,
   "id": "d8c7967f-3190-4dec-8988-e7519ab15b4f",
   "metadata": {
    "tags": []
   },
   "outputs": [
    {
     "name": "stdout",
     "output_type": "stream",
     "text": [
      "{'nombre': 'Fernando Paniagua', 'direccion': 'C/San Miguel, Alcorcón', 'email': 'fernando.paniagua@gmail.com', 'cif': 'B12345678'}\n",
      "{'nombre': 'Philips S.A.U.', 'direccion': 'Hoyos del Espino', 'email': 'philips@gmail.com', 'cif': 'B87654321'}\n",
      "[('Pan', '15', '1.5'), ('Leche', '10', '1.75'), ('Cerveza Sin Alcohol', '5', '0.60')]\n",
      "{'nombre': 'Fernando Paniagua2', 'direccion': 'C/San Miguel, Alcorcón', 'email': 'fernando.paniagua@gmail.com', 'cif': 'B12345678'}\n",
      "{'nombre': 'Philips S.A.U.2', 'direccion': 'Hoyos del Espino', 'email': 'philips@gmail.com', 'cif': 'B87654321'}\n",
      "[('Pan', '15', '1.5'), ('Leche', '10', '1.75'), ('Cerveza Sin Alcohol', '5', '0.60')]\n"
     ]
    }
   ],
   "source": [
    "for item in items:\n",
    "    partes = item.split(\"$\")\n",
    "    supplier_data = dict() #o podemos crear el diccionario supplier_data = {}\n",
    "    client_data = dict()\n",
    "    item_list = list()\n",
    "    \n",
    "    elementos = partes[0].split(\"#\")\n",
    "    supplier_data[\"nombre\"]=elementos[0]\n",
    "    supplier_data[\"direccion\"]=elementos[1]\n",
    "    supplier_data[\"email\"]=elementos[2]\n",
    "    supplier_data[\"cif\"]=elementos[3]\n",
    "\n",
    "    elementos = partes[1].split(\"#\")\n",
    "    client_data[\"nombre\"]=elementos[0]\n",
    "    client_data[\"direccion\"]=elementos[1]\n",
    "    client_data[\"email\"]=elementos[2]\n",
    "    client_data[\"cif\"]=elementos[3]\n",
    "\n",
    "    elementos = partes[2].split(\"#\")\n",
    "    for producto in elementos:\n",
    "        partes_producto = producto.split(\",\")\n",
    "        producto_facturable = (partes_producto[0], partes_producto[1],partes_producto[2])\n",
    "        item_list.append(producto_facturable)\n",
    "    print(supplier_data)\n",
    "    print(client_data)\n",
    "    print(item_list)"
   ]
  },
  {
   "cell_type": "code",
   "execution_count": null,
   "id": "37e9ac8f-2a66-4a8c-bdc8-fae65a8d637c",
   "metadata": {},
   "outputs": [],
   "source": []
  }
 ],
 "metadata": {
  "kernelspec": {
   "display_name": "Python 3 (ipykernel)",
   "language": "python",
   "name": "python3"
  },
  "language_info": {
   "codemirror_mode": {
    "name": "ipython",
    "version": 3
   },
   "file_extension": ".py",
   "mimetype": "text/x-python",
   "name": "python",
   "nbconvert_exporter": "python",
   "pygments_lexer": "ipython3",
   "version": "3.11.2"
  }
 },
 "nbformat": 4,
 "nbformat_minor": 5
}
